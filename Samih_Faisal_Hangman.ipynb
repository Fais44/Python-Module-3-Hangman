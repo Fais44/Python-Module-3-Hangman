{
 "cells": [
  {
   "cell_type": "code",
   "execution_count": 5,
   "metadata": {},
   "outputs": [
    {
     "name": "stdout",
     "output_type": "stream",
     "text": [
      "/Users/FaisalSamih/Desktop/MoD Python Coding\n"
     ]
    }
   ],
   "source": [
    "import os\n",
    "import random\n",
    "\n",
    "print(os.getcwd()) # check working directory\n",
    "\n",
    "f = open('word_list.docx.txt', 'r',encoding='utf-8-sig') # reading in data\n",
    "file_data = f.read().split('\\n')\n",
    "f.close()\n",
    "\n"
   ]
  },
  {
   "cell_type": "code",
   "execution_count": 6,
   "metadata": {},
   "outputs": [
    {
     "name": "stdout",
     "output_type": "stream",
     "text": [
      "Welcome to Hangman\n",
      "\n",
      " Please enter your next guess (The word is 5 letters long):o\n",
      "* * * * * \n",
      " wrong\n",
      "bad guess you have 6 lives left\n",
      "\n",
      " Please enter your next guess (The word is 5 letters long):a\n",
      "* * a * * \n",
      " Please enter your next guess (The word is 5 letters long):e\n",
      "* * a * * \n",
      " wrong\n",
      "bad guess you have 5 lives left\n",
      "\n",
      " Please enter your next guess (The word is 5 letters long):i\n",
      "* * a * * \n",
      " wrong\n",
      "bad guess you have 4 lives left\n",
      "\n",
      " Please enter your next guess (The word is 5 letters long):l\n",
      "* * a l l \n",
      " Please enter your next guess (The word is 5 letters long):f\n",
      "* * a l l \n",
      " wrong\n",
      "bad guess you have 3 lives left\n",
      "\n",
      " Please enter your next guess (The word is 5 letters long):c\n",
      "* * a l l \n",
      " wrong\n",
      "bad guess you have 2 lives left\n",
      "\n",
      " Please enter your next guess (The word is 5 letters long):r\n",
      "* * a l l \n",
      " wrong\n",
      "bad guess you have 1 lives left\n",
      "\n",
      " Please enter your next guess (The word is 5 letters long):o\n",
      "* * a l l \n",
      " wrong\n",
      "bad guess you have 0 lives left\n",
      "you lose\n"
     ]
    }
   ],
   "source": [
    "# code here pics the word randomly using built in package\n",
    "word=random.choice(file_data)\n",
    "\n",
    "# a few things to define before starting\n",
    "length=len(word)\n",
    "alphabet=['a','b','c','d','e','f','g','h','i','j','k','l','m','n','o','p','q','r','s','t','u','v','w','x','y','z']\n",
    "lives=7\n",
    "guesses=''\n",
    "\n",
    "# Lets begin\n",
    "print(\"Welcome to Hangman\")\n",
    "\"\"\"\"print(word)\"\"\"\n",
    "\n",
    "while lives>0: # only play the game when there are lives\n",
    "    fails=0\n",
    "    \n",
    "    # take input from user but ensure no multiple letters or non-letters used to make it fair\n",
    "    guess=input(\"\\n Please enter your next guess (The word is {} letters long):\".format(length))\n",
    "    \n",
    "    while len(guess) != 1:\n",
    "        guess=input(\"please only enter one letter:\")\n",
    "    while guess not in alphabet:\n",
    "        guess=input(\"please guess a letter:\")\n",
    "    \n",
    "    guesses += guess # store guesses in a list\n",
    "    \n",
    "    for letter in word:   #  much simpler than taking item by item approach word[i]=guess\n",
    "        if  letter.lower() in guesses: \n",
    "                print(letter,end=\" \")   # print letters when guesses correct\n",
    "        \n",
    "        else:\n",
    "            print(\"*\",end=\" \")\n",
    "            fails = fails+1 # increment number of letters unknown so when this is zero - win\n",
    "            \n",
    "    if fails == 0:\n",
    "        print(\"Congratulations You Win\")\n",
    "        print(\"The word is: \", word)\n",
    "        break\n",
    "        \n",
    "    \n",
    "    if guess not in word:  # if guess wrong increment lives down \n",
    "        lives -= 1\n",
    "        print(\"\\n wrong\")\n",
    "        print(\"bad guess you have {} lives left\".format(lives))\n",
    "        \n",
    "        if lives==0:  # 0 lives = you lose\n",
    "            print(\"you lose\")\n"
   ]
  },
  {
   "cell_type": "code",
   "execution_count": null,
   "metadata": {},
   "outputs": [],
   "source": []
  },
  {
   "cell_type": "code",
   "execution_count": null,
   "metadata": {},
   "outputs": [],
   "source": [
    "\n"
   ]
  },
  {
   "cell_type": "code",
   "execution_count": null,
   "metadata": {},
   "outputs": [],
   "source": []
  }
 ],
 "metadata": {
  "kernelspec": {
   "display_name": "Python 3",
   "language": "python",
   "name": "python3"
  },
  "language_info": {
   "codemirror_mode": {
    "name": "ipython",
    "version": 3
   },
   "file_extension": ".py",
   "mimetype": "text/x-python",
   "name": "python",
   "nbconvert_exporter": "python",
   "pygments_lexer": "ipython3",
   "version": "3.7.3"
  }
 },
 "nbformat": 4,
 "nbformat_minor": 2
}
